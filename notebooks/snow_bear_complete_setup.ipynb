{
 "cells": [
  {
   "cell_type": "markdown",
   "id": "ce110000-1111-2222-3333-ffffff000000",
   "metadata": {
    "name": "intro_md"
   },
   "source": [
    "# Snow Bear Fan Experience Analytics - Setup\n",
    "\n",
    "This notebook sets up the complete Snow Bear analytics platform. Run each cell sequentially.\n",
    "\n",
    "**\u26a0\ufe0f Prerequisites:**\n",
    "1. Execute `setup.sql` to create database, role, warehouse, and stages\n",
    "2. Download `basketball_fan_survey_data.csv.gz`, `snow_bear.py`, and `snowbear_fan_360.yaml`\n",
    "3. Upload files to their respective stages in Snowsight\n",
    "4. Import this notebook and run all cells\n",
    "\n",
    "---\n"
   ]
  },
  {
   "cell_type": "markdown",
   "metadata": {},
   "source": [
    "## 1. Load Data\n",
    "\n",
    "Set up the database context and load the basketball fan survey data from the stage into the bronze layer table.\n",
    "\n",
    "**What this does:**\n",
    "- Switches to the Snow Bear role and warehouse\n",
    "- Sets database and schema context\n",
    "- Loads CSV data from stage using COPY INTO command\n"
   ]
  },
  {
   "cell_type": "code",
   "execution_count": null,
   "metadata": {
    "language": "sql"
   },
   "outputs": [],
   "source": [
    "-- Switch to Snow Bear role and set context\n",
    "USE ROLE snow_bear_data_scientist;\n",
    "USE WAREHOUSE snow_bear_wh;\n",
    "USE DATABASE SNOW_BEAR_DB;\n",
    "USE SCHEMA BRONZE_LAYER;\n",
    "\n",
    "\n",
    "-- Load data from stage into bronze layer table\n",
    "COPY INTO SNOW_BEAR_DB.BRONZE_LAYER.GENERATED_DATA_MAJOR_LEAGUE_BASKETBALL_STRUCTURED\n",
    "FROM @SNOW_BEAR_DB.ANALYTICS.snow_bear_data_stage/basketball_fan_survey_data.csv.gz\n",
    "FILE_FORMAT = SNOW_BEAR_DB.BRONZE_LAYER.csv_format\n",
    "ON_ERROR = 'CONTINUE';\n"
   ]
  },
  {
   "cell_type": "markdown",
   "metadata": {},
   "source": [
    "## 2. Create Gold Layer with Cortex AI Processing\n",
    "\n",
    "Create the enhanced analytics table with Cortex AI sentiment analysis and theme extraction.\n",
    "\n",
    "**What this does:**\n",
    "- Creates QUALTRICS_SCORECARD table in the gold layer\n",
    "- Applies SENTIMENT analysis to all comment fields\n",
    "- Uses EXTRACT_ANSWER to generate theme summaries\n",
    "- Sets up columns for themes, segments, and recommendations\n"
   ]
  },
  {
   "cell_type": "code",
   "execution_count": null,
   "id": "ce110000-1111-2222-3333-ffffff000006",
   "metadata": {
    "language": "sql"
   },
   "outputs": [],
   "source": [
    "USE SCHEMA GOLD_LAYER;\n",
    "\n",
    "-- Drop table if exists\n",
    "DROP TABLE IF EXISTS SNOW_BEAR_DB.GOLD_LAYER.QUALTRICS_SCORECARD;\n",
    "\n",
    "-- Create the complete AI-enhanced analytics table\n",
    "CREATE OR REPLACE TABLE SNOW_BEAR_DB.GOLD_LAYER.QUALTRICS_SCORECARD\n",
    "AS\n",
    "SELECT DATEADD(DAY, UNIFORM(1, 365, RANDOM()), '2024-06-01') AS REVIEW_DATE,\n",
    "       A.*,\n",
    "       CAST(NULL AS INTEGER) as AGGREGATE_SCORE,       \n",
    "       FOOD_OFFERING_COMMENT||' '||\n",
    "       GAME_EXPERIENCE_COMMENT||' '||\n",
    "       MERCHANDISE_OFFERING_COMMENT||' '||\n",
    "       MERCHANDISE_PRICING_COMMENT||' '||\n",
    "       OVERALL_EVENT_COMMENT||' '||\n",
    "       PARKING_COMMENT||' '||\n",
    "       SEAT_LOCATION_COMMENT   \n",
    "       AS AGGREGATE_COMMENT,\n",
    "       CAST(NULL AS FLOAT) AS AGGREGATE_SENTIMENT,\n",
    "       CAST(NULL AS FLOAT) AS ALT_AGGREGATE_SENTIMENT,\n",
    "       CAST(NULL AS FLOAT) AS AGGREGATE_SENTIMENT_SPREAD,\n",
    "       ROUND(SNOWFLAKE.CORTEX.SENTIMENT(FOOD_OFFERING_COMMENT), 2) AS FOOD_OFFERING_SENTIMENT,\n",
    "       ROUND(SNOWFLAKE.CORTEX.SENTIMENT(GAME_EXPERIENCE_COMMENT), 2) AS GAME_EXPERIENCE_SENTIMENT,\n",
    "       ROUND(SNOWFLAKE.CORTEX.SENTIMENT(MERCHANDISE_OFFERING_COMMENT), 2) AS MERCHANDISE_OFFERING_SENTIMENT,\n",
    "       ROUND(SNOWFLAKE.CORTEX.SENTIMENT(MERCHANDISE_PRICING_COMMENT), 2) AS MERCHANDISE_PRICING_SENTIMENT,\n",
    "       ROUND(SNOWFLAKE.CORTEX.SENTIMENT(OVERALL_EVENT_COMMENT), 2) AS OVERALL_EVENT_SENTIMENT,\n",
    "       ROUND(SNOWFLAKE.CORTEX.SENTIMENT(PARKING_COMMENT), 2) AS PARKING_SENTIMENT,   \n",
    "       ROUND(SNOWFLAKE.CORTEX.SENTIMENT(SEAT_LOCATION_COMMENT), 2) AS SEAT_LOCATION_SENTIMENT,\n",
    "       ROUND(SNOWFLAKE.CORTEX.SENTIMENT(STADIUM_COMMENT), 2) AS STADIUM_ACCESS_SENTIMENT,\n",
    "       CAST(NULL AS VARCHAR(1000)) AS AGGREGATE_SUMMARY,\n",
    "       SNOWFLAKE.CORTEX.EXTRACT_ANSWER(FOOD_OFFERING_COMMENT,'ASSIGN A THEME')[0]:answer::string AS FOOD_SUMMARY,\n",
    "       SNOWFLAKE.CORTEX.EXTRACT_ANSWER(GAME_EXPERIENCE_COMMENT,'ASSIGN A THEME')[0]:answer::string AS GAME_EXPERIENCE_SUMMARY,\n",
    "       SNOWFLAKE.CORTEX.EXTRACT_ANSWER(MERCHANDISE_OFFERING_COMMENT,'ASSIGN A THEME')[0]:answer::string AS MERCHANDISE_OFFERING_SUMMARY,\n",
    "       SNOWFLAKE.CORTEX.EXTRACT_ANSWER(MERCHANDISE_PRICING_COMMENT,'ASSIGN A THEME')[0]:answer::string AS MERCHANDISE_PRICING_SUMMARY,\n",
    "       SNOWFLAKE.CORTEX.EXTRACT_ANSWER(OVERALL_EVENT_COMMENT,'ASSIGN A THEME')[0]:answer::string  AS OVERALL_EVENT_SUMMARY,\n",
    "       SNOWFLAKE.CORTEX.EXTRACT_ANSWER(PARKING_COMMENT,'ASSIGN A THEME')[0]:answer::string AS PARKING_SUMMARY,\n",
    "       SNOWFLAKE.CORTEX.EXTRACT_ANSWER(SEAT_LOCATION_COMMENT,'ASSIGN A THEME')[0]:answer::string AS SEAT_LOCATION_SUMMARY,\n",
    "       SNOWFLAKE.CORTEX.EXTRACT_ANSWER(STADIUM_COMMENT,'ASSIGN A THEME')[0]:answer::string AS STADIUM_ACCESS_SUMMARY,\n",
    "       CAST(NULL AS VARCHAR(1000)) AS MAIN_THEME,\n",
    "       CAST(NULL AS VARCHAR(1000)) AS SECONDARY_THEME,\n",
    "       CAST(0 AS INTEGER) AS FOOD,\n",
    "       CAST(0 AS INTEGER) AS PARKING,\n",
    "       CAST(0 AS INTEGER) AS SEATING,    \n",
    "       CAST(0 AS INTEGER) AS MERCHANDISE,      \n",
    "       CAST(0 AS INTEGER) AS GAME,\n",
    "       CAST(0 AS INTEGER) AS TICKET,\n",
    "       CAST(0 AS INTEGER) AS NO_THEME,\n",
    "       CAST(0 AS INTEGER) AS VIP,\n",
    "       CAST(NULL as VARCHAR(1000)) AS SEGMENT,\n",
    "       CAST(NULL as VARCHAR(1000)) AS SEGMENT_ALT,\n",
    "       CAST(NULL AS VARCHAR(8000)) AS BUSINESS_RECOMMENDATION,       \n",
    "       CAST(NULL AS VARCHAR(8000)) AS COMPLEX_RECOMMENDATION\n",
    "FROM SNOW_BEAR_DB.BRONZE_LAYER.GENERATED_DATA_MAJOR_LEAGUE_BASKETBALL_STRUCTURED A;\n"
   ]
  },
  {
   "cell_type": "markdown",
   "metadata": {},
   "source": [
    "## 3. Populate Theme and Summary Data\n",
    "\n",
    "Populate the theme categories, create summary tables, and calculate aggregate sentiment scores.\n",
    "\n",
    "**What this does:**\n",
    "- Assigns main themes based on highest sentiment scores\n",
    "- Creates EXTRACTED_THEMES_STRUCTURED table for app compatibility\n",
    "- Calculates aggregate scores and sentiment analysis\n",
    "- Updates sentiment spread calculations\n"
   ]
  },
  {
   "cell_type": "code",
   "execution_count": null,
   "metadata": {
    "language": "sql"
   },
   "outputs": [],
   "source": [
    "-- Populate MAIN_THEME column for Streamlit app compatibility\n",
    "UPDATE SNOW_BEAR_DB.GOLD_LAYER.QUALTRICS_SCORECARD \n",
    "SET MAIN_THEME = \n",
    "    CASE \n",
    "        WHEN FOOD_OFFERING_SENTIMENT >= GREATEST(GAME_EXPERIENCE_SENTIMENT, PARKING_SENTIMENT, STADIUM_ACCESS_SENTIMENT, SEAT_LOCATION_SENTIMENT, OVERALL_EVENT_SENTIMENT) \n",
    "             AND ABS(FOOD_OFFERING_SENTIMENT) >= 0.3 THEN 'Food & Concessions'\n",
    "        WHEN GAME_EXPERIENCE_SENTIMENT >= GREATEST(FOOD_OFFERING_SENTIMENT, PARKING_SENTIMENT, STADIUM_ACCESS_SENTIMENT, SEAT_LOCATION_SENTIMENT, OVERALL_EVENT_SENTIMENT) \n",
    "             AND ABS(GAME_EXPERIENCE_SENTIMENT) >= 0.3 THEN 'Game Experience'\n",
    "        WHEN PARKING_SENTIMENT >= GREATEST(FOOD_OFFERING_SENTIMENT, GAME_EXPERIENCE_SENTIMENT, STADIUM_ACCESS_SENTIMENT, SEAT_LOCATION_SENTIMENT, OVERALL_EVENT_SENTIMENT) \n",
    "             AND ABS(PARKING_SENTIMENT) >= 0.3 THEN 'Parking'\n",
    "        WHEN STADIUM_ACCESS_SENTIMENT >= GREATEST(FOOD_OFFERING_SENTIMENT, GAME_EXPERIENCE_SENTIMENT, PARKING_SENTIMENT, SEAT_LOCATION_SENTIMENT, OVERALL_EVENT_SENTIMENT) \n",
    "             AND ABS(STADIUM_ACCESS_SENTIMENT) >= 0.3 THEN 'Stadium Access'\n",
    "        WHEN SEAT_LOCATION_SENTIMENT >= GREATEST(FOOD_OFFERING_SENTIMENT, GAME_EXPERIENCE_SENTIMENT, PARKING_SENTIMENT, STADIUM_ACCESS_SENTIMENT, OVERALL_EVENT_SENTIMENT) \n",
    "             AND ABS(SEAT_LOCATION_SENTIMENT) >= 0.3 THEN 'Seat Location'\n",
    "        WHEN OVERALL_EVENT_SENTIMENT IS NOT NULL AND ABS(OVERALL_EVENT_SENTIMENT) >= 0.5 THEN 'Overall Event'\n",
    "        ELSE 'Merchandise Quality'\n",
    "    END;\n",
    "\n",
    "\n",
    "\n",
    "\n",
    "-- Create EXTRACTED_THEMES_STRUCTURED table for Streamlit app compatibility\n",
    "CREATE OR REPLACE TABLE SNOW_BEAR_DB.GOLD_LAYER.EXTRACTED_THEMES_STRUCTURED AS\n",
    "SELECT \n",
    "    ROW_NUMBER() OVER (ORDER BY COUNT(*) DESC) AS THEME_NUMBER,\n",
    "    MAIN_THEME,\n",
    "    CASE \n",
    "        WHEN AVG(AGGREGATE_SENTIMENT) > 0.2 THEN 'Positive'\n",
    "        WHEN AVG(AGGREGATE_SENTIMENT) < -0.2 THEN 'Negative'\n",
    "        ELSE 'Neutral'\n",
    "    END AS SENTIMENT_CATEGORY,\n",
    "    'Theme extracted from fan feedback analysis using Cortex AI' AS THEME_DESCRIPTION,\n",
    "    COUNT(*) AS RESPONSE_COUNT\n",
    "FROM SNOW_BEAR_DB.GOLD_LAYER.QUALTRICS_SCORECARD\n",
    "WHERE MAIN_THEME IS NOT NULL\n",
    "GROUP BY MAIN_THEME\n",
    "ORDER BY COUNT(*) DESC;\n",
    "\n",
    "\n",
    "\n",
    "\n",
    "-- Update aggregate scores and sentiment analysis\n",
    "UPDATE SNOW_BEAR_DB.GOLD_LAYER.QUALTRICS_SCORECARD\n",
    "   SET AGGREGATE_SCORE = TRUNC((CASE WHEN FOOD_OFFERING_SCORE = 'N/A' THEN NULL ELSE FOOD_OFFERING_SCORE END+\n",
    "                                CASE WHEN GAME_EXPERIENCE_SCORE = 'N/A' THEN NULL ELSE GAME_EXPERIENCE_SCORE END+\n",
    "                                CASE WHEN MERCHANDISE_OFFERING_SCORE = 'N/A' THEN NULL ELSE MERCHANDISE_OFFERING_SCORE END +\n",
    "                          CASE WHEN MERCHANDISE_PRICING_SCORE = 'N/A' THEN NULL ELSE MERCHANDISE_PRICING_SCORE END +\n",
    "                          CASE WHEN OVERALL_EVENT_SCORE = 'N/A' THEN NULL ELSE OVERALL_EVENT_SCORE END +\n",
    "                          CASE WHEN PARKING_SCORE = 'N/A' THEN NULL ELSE PARKING_SCORE END +\n",
    "                          CASE WHEN SEAT_LOCATION_SCORE = 'N/A' THEN NULL ELSE SEAT_LOCATION_SCORE END +\n",
    "                          CASE WHEN STADIUM_ACCESS_SCORE = 'N/A' THEN NULL ELSE STADIUM_ACCESS_SCORE END)/8),\n",
    "       AGGREGATE_SENTIMENT = ROUND(SNOWFLAKE.CORTEX.SENTIMENT(AGGREGATE_COMMENT), 2),\n",
    "       AGGREGATE_SUMMARY = SNOWFLAKE.CORTEX.EXTRACT_ANSWER(AGGREGATE_COMMENT,'ASSIGN A THEME')[0]:answer::string,\n",
    "       ALT_AGGREGATE_SENTIMENT = (FOOD_OFFERING_SENTIMENT+GAME_EXPERIENCE_SENTIMENT+MERCHANDISE_OFFERING_SENTIMENT+\n",
    "                                 MERCHANDISE_PRICING_SENTIMENT+OVERALL_EVENT_SENTIMENT+PARKING_SENTIMENT+\n",
    "                                 SEAT_LOCATION_SENTIMENT+STADIUM_ACCESS_SENTIMENT)/8;\n",
    "                                 \n",
    "UPDATE SNOW_BEAR_DB.GOLD_LAYER.QUALTRICS_SCORECARD\n",
    "   SET AGGREGATE_SENTIMENT_SPREAD = ALT_AGGREGATE_SENTIMENT - AGGREGATE_SENTIMENT;\n",
    "   \n",
    "\n"
   ]
  },
  {
   "cell_type": "markdown",
   "metadata": {},
   "source": [
    "## 4. Create Cortex Search Service\n",
    "\n",
    "Set up the Cortex Search service for semantic search capabilities across fan feedback.\n",
    "\n",
    "**What this does:**\n",
    "- Creates SNOWBEAR_SEARCH_ANALYSIS search service\n",
    "- Indexes aggregate comments with relevant attributes\n",
    "- Uses snowflake-arctic-embed-m-v1.5 embedding model\n",
    "- Enables semantic search in the Streamlit app\n"
   ]
  },
  {
   "cell_type": "code",
   "execution_count": null,
   "id": "ce110000-1111-2222-3333-ffffff000014",
   "metadata": {
    "language": "sql"
   },
   "outputs": [],
   "source": [
    "-- Create Cortex Search Service in the correct database context\n",
    "USE DATABASE SNOW_BEAR_DB;\n",
    "USE SCHEMA GOLD_LAYER;\n",
    "\n",
    "CREATE OR REPLACE CORTEX SEARCH SERVICE SNOWBEAR_SEARCH_ANALYSIS\n",
    "  ON AGGREGATE_COMMENT\n",
    "  ATTRIBUTES AGGREGATE_SCORE,SEGMENT, SEGMENT_ALT, MAIN_THEME, SECONDARY_THEME,\n",
    "        PARKING_SCORE,SEAT_LOCATION_SCORE,\n",
    "        OVERALL_EVENT_SCORE,MERCHANDISE_PRICING_SCORE,\n",
    "        MERCHANDISE_OFFERING_SCORE,GAME_EXPERIENCE_SCORE,\n",
    "        FOOD_OFFERING_SCORE,REVIEW_DATE,ID\n",
    "  WAREHOUSE = snow_bear_wh\n",
    "  TARGET_LAG = '1 days'\n",
    "  EMBEDDING_MODEL = 'snowflake-arctic-embed-m-v1.5'\n",
    "  INITIALIZE = ON_CREATE \n",
    "  COMMENT = 'CORTEX SEARCH SERVICE FOR SNOW BEAR FAN EXPERIENCE ANALYSIS' \n",
    "  AS (\n",
    "    SELECT\n",
    "\t\tAGGREGATE_COMMENT,AGGREGATE_SCORE,\n",
    "        SEGMENT, SEGMENT_ALT, MAIN_THEME, SECONDARY_THEME,\n",
    "        PARKING_SCORE,SEAT_LOCATION_SCORE,\n",
    "        OVERALL_EVENT_SCORE,MERCHANDISE_PRICING_SCORE,\n",
    "        MERCHANDISE_OFFERING_SCORE,GAME_EXPERIENCE_SCORE,\n",
    "        FOOD_OFFERING_SCORE,REVIEW_DATE,ID\n",
    "\tFROM \"SNOW_BEAR_DB\".\"GOLD_LAYER\".\"QUALTRICS_SCORECARD\");\n"
   ]
  },
  {
   "cell_type": "markdown",
   "metadata": {},
   "source": [
    "## 5. Generate Business Recommendations\n",
    "\n",
    "Use Cortex AI to generate personalized business recommendations based on fan feedback and sentiment.\n",
    "\n",
    "**What this does:**\n",
    "- Generates targeted recommendations using CORTEX.COMPLETE\n",
    "- Creates different recommendation types based on sentiment scores\n",
    "- Provides actionable business insights for each fan profile\n",
    "- Populates both simple and complex recommendation fields\n"
   ]
  },
  {
   "cell_type": "code",
   "execution_count": null,
   "id": "ce110000-1111-2222-3333-ffffff000016",
   "metadata": {
    "language": "sql"
   },
   "outputs": [],
   "source": [
    "-- Generate business recommendations using Cortex AI\n",
    "UPDATE SNOW_BEAR_DB.GOLD_LAYER.QUALTRICS_SCORECARD\n",
    "SET BUSINESS_RECOMMENDATION = \n",
    "    CASE \n",
    "        WHEN AGGREGATE_SCORE <= 2 THEN \n",
    "            SNOWFLAKE.CORTEX.COMPLETE(\n",
    "                'snowflake-arctic',\n",
    "                CONCAT('Based on this negative fan feedback: \"', AGGREGATE_COMMENT, '\", provide a specific business recommendation to improve the fan experience. Focus on actionable steps for: ', MAIN_THEME, '. Keep response under 100 words.')\n",
    "            )\n",
    "        WHEN AGGREGATE_SCORE >= 4 THEN \n",
    "            SNOWFLAKE.CORTEX.COMPLETE(\n",
    "                'snowflake-arctic', \n",
    "                CONCAT('Based on this positive fan feedback: \"', AGGREGATE_COMMENT, '\", provide a business recommendation on how to maintain and expand on these successful aspects of: ', MAIN_THEME, '. Keep response under 100 words.')\n",
    "            )\n",
    "        ELSE \n",
    "            CONCAT('Focus on improving ', MAIN_THEME, ' experience based on mixed feedback. Consider surveying fans for specific improvement ideas.')\n",
    "    END\n",
    "WHERE BUSINESS_RECOMMENDATION IS NULL AND AGGREGATE_COMMENT IS NOT NULL;\n",
    "\n",
    "-- Update COMPLEX_RECOMMENDATION for premium experience insights\n",
    "UPDATE SNOW_BEAR_DB.GOLD_LAYER.QUALTRICS_SCORECARD\n",
    "SET COMPLEX_RECOMMENDATION = \n",
    "    SNOWFLAKE.CORTEX.COMPLETE(\n",
    "        'snowflake-arctic',\n",
    "        CONCAT('Fan Profile: Score=', AGGREGATE_SCORE, ', Segment=', SEGMENT, ', Theme=', MAIN_THEME, '. Comment: \"', AGGREGATE_COMMENT, '\". Provide a comprehensive business strategy recommendation for this fan profile. Include retention strategy, upsell opportunities, and experience personalization. Limit to 150 words.')\n",
    "    )\n",
    "WHERE COMPLEX_RECOMMENDATION IS NULL AND SEGMENT IS NOT NULL AND AGGREGATE_COMMENT IS NOT NULL;\n"
   ]
  },
  {
   "cell_type": "markdown",
   "metadata": {},
   "source": [
    "## 6. Create Streamlit Application\n",
    "\n",
    "Deploy the interactive analytics dashboard from the uploaded Python file.\n",
    "\n",
    "**What this does:**\n",
    "- Creates the Snow Bear Fan Analytics Streamlit app\n",
    "- Points to the uploaded snow_bear.py file in the stage\n",
    "- Grants usage permissions to the Snow Bear role\n",
    "- Makes the dashboard accessible via Projects \u2192 Streamlit\n"
   ]
  },
  {
   "cell_type": "code",
   "execution_count": null,
   "id": "ce110000-1111-2222-3333-ffffff000018",
   "metadata": {
    "language": "sql"
   },
   "outputs": [],
   "source": [
    "-- Create the Streamlit app from the uploaded file\n",
    "USE DATABASE SNOW_BEAR_DB;\n",
    "USE SCHEMA ANALYTICS;\n",
    "\n",
    "CREATE OR REPLACE STREAMLIT \"Snow Bear Fan Analytics\"\n",
    "    ROOT_LOCATION = '@SNOW_BEAR_DB.ANALYTICS.SNOW_BEAR_DATA_STAGE'\n",
    "    MAIN_FILE = 'snow_bear.py'\n",
    "    QUERY_WAREHOUSE = 'SNOW_BEAR_WH'\n",
    "    COMMENT = 'Snow Bear Fan Experience Analytics Dashboard';\n",
    "\n",
    "-- Grant usage to the Snow Bear role\n",
    "GRANT USAGE ON STREAMLIT \"Snow Bear Fan Analytics\" TO ROLE SNOW_BEAR_DATA_SCIENTIST;\n"
   ]
  },
  {
   "cell_type": "markdown",
   "id": "ce110000-1111-2222-3333-ffffff000019",
   "metadata": {
    "collapsed": false,
    "name": "final_validation"
   },
   "source": [
    "## \u2705 Setup Complete!\n",
    "\n",
    "Navigate to **Projects \u2192 Streamlit \u2192 Snow Bear Fan Analytics** to access your dashboard.\n"
   ]
  }
 ],
 "metadata": {
  "kernelspec": {
   "display_name": "Snowpark Python",
   "language": "python",
   "name": "python3"
  },
  "language_info": {
   "name": "python",
   "version": "3.11.5"
  }
 },
 "nbformat": 4,
 "nbformat_minor": 2
}
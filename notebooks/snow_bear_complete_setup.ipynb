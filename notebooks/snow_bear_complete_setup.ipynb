{
 "metadata": {
  "language_info": {
   "name": "python"
  },
  "lastEditStatus": {
   "notebookId": "hahdj7yfsigae5ahwatq",
   "authorId": "4584884901892",
   "authorName": "JBELLEGARDE",
   "authorEmail": "joviane.bellegarde@snowflake.com",
   "sessionId": "4b353a3f-400e-405b-b09f-479bb2c7fd7e",
   "lastEditTime": 1758117942766
  }
 },
 "nbformat_minor": 2,
 "nbformat": 4,
 "cells": [
  {
   "cell_type": "markdown",
   "id": "ce110000-1111-2222-3333-ffffff000000",
   "metadata": {
    "name": "intro_md"
   },
   "source": [
    "# Snow Bear Fan Experience Analytics - Complete Setup\n",
    "\n",
    "This notebook contains all the SQL scripts from the Snow Bear quickstart, organized by section. Run each cell sequentially to set up the complete analytics platform.\n",
    "\n",
    "**⚠️ Prerequisites - Complete BEFORE running this notebook:**\n",
    "\n",
    "1. **Run the setup script**: Execute `setup.sql` first to create database, schemas, role, warehouse, and stage\n",
    "2. **Download required files**: Download `basketball_fan_survey_data.csv.gz` and `snow_bear.py` from the quickstart\n",
    "3. **Upload to stage**: Upload both files to the `snow_bear_data_stage` in Snowsight\n",
    "4. **Import this notebook**: Use Snowsight's \"Import .ipynb file\" feature to import this notebook\n",
    "5. **Cortex AI access**: Ensure you have SNOWFLAKE.CORTEX_USER role (granted by setup script)\n",
    "\n",
    "**📋 Quick Setup Steps:**\n",
    "1. Execute `setup.sql` in a Snowflake worksheet\n",
    "2. Download `basketball_fan_survey_data.csv.gz` and `snow_bear.py`\n",
    "3. Navigate to Data → Databases → SNOW_BEAR_DB → ANALYTICS → Stages → SNOW_BEAR_DATA_STAGE\n",
    "4. Upload both files to the stage\n",
    "5. Download this notebook file and import it using Projects → Notebooks → Import .ipynb file\n",
    "6. Run this notebook!\n",
    "\n",
    "---\n"
   ]
  },
  {
   "cell_type": "markdown",
   "id": "ce110000-1111-2222-3333-ffffff000001",
   "metadata": {
    "name": "verify_setup_load_data_md"
   },
   "source": [
    "## 1. Verify Setup and Load Data\n",
    "\n",
    "Verify the setup script ran successfully and load the fan survey data from the stage.\n"
   ]
  },
  {
   "cell_type": "code",
   "execution_count": null,
   "id": "ce110000-1111-2222-3333-ffffff000002",
   "metadata": {
    "language": "sql",
    "name": "verify_setup",
    "vscode": {
     "languageId": "sql"
    }
   },
   "outputs": [],
   "source": [
    "-- Switch to Snow Bear role and verify setup\n",
    "USE ROLE snow_bear_data_scientist;\n",
    "USE WAREHOUSE snow_bear_wh;\n",
    "-- Already using BRONZE_LAYER schema\n",
    "\n",
    "-- Verify setup components exist\n",
    "SELECT 'Database exists' as check_item, DATABASE_NAME as status \n",
    "FROM INFORMATION_SCHEMA.DATABASES \n",
    "WHERE DATABASE_NAME = 'SNOW_BEAR_DB'\n",
    "\n",
    "UNION ALL\n",
    "\n",
    "SELECT 'Table exists' as check_item, TABLE_NAME as status\n",
    "FROM INFORMATION_SCHEMA.TABLES \n",
    "WHERE TABLE_NAME = 'GENERATED_DATA_MAJOR_LEAGUE_BASKETBALL_STRUCTURED';\n",
    "\n",
    "-- Verify stage exists in SNOW_BEAR_DB.ANALYTICS\n",
    "USE DATABASE SNOW_BEAR_DB;\n",
    "USE SCHEMA ANALYTICS;\n",
    "\n",
    "SELECT 'Stage exists' as check_item, STAGE_NAME as status\n",
    "FROM INFORMATION_SCHEMA.STAGES \n",
    "WHERE STAGE_NAME = 'SNOW_BEAR_DATA_STAGE';\n",
    "\n",
    "-- Verify CSV file is uploaded to stage\n",
    "LIST @SNOW_BEAR_DB.ANALYTICS.snow_bear_data_stage;\n",
    "\n",
    "-- Switch to data context\n",
    "USE SCHEMA BRONZE_LAYER;\n"
   ]
  },
  {
   "cell_type": "markdown",
   "id": "ce110000-1111-2222-3333-ffffff000003",
   "metadata": {
    "name": "load_fan_survey_md"
   },
   "source": [
    "## 2. Load Fan Survey Data\n",
    "\n",
    "### Load Data from Stage into Bronze Layer\n",
    "\n",
    "Load the basketball fan survey data from the stage into the bronze layer table.\n"
   ]
  },
  {
   "cell_type": "code",
   "execution_count": null,
   "id": "ce110000-1111-2222-3333-ffffff000004",
   "metadata": {
    "language": "sql",
    "name": "load_fan_survey_data",
    "vscode": {
     "languageId": "sql"
    }
   },
   "outputs": [],
   "source": [
    "-- Load data from stage into bronze layer table\n",
    "-- This loads the real basketball fan survey data from basketball_fan_survey_data.csv.gz\n",
    "COPY INTO SNOW_BEAR_DB.BRONZE_LAYER.GENERATED_DATA_MAJOR_LEAGUE_BASKETBALL_STRUCTURED\n",
    "FROM @SNOW_BEAR_DB.ANALYTICS.snow_bear_data_stage/basketball_fan_survey_data.csv.gz\n",
    "FILE_FORMAT = SNOW_BEAR_DB.BRONZE_LAYER.csv_format\n",
    "ON_ERROR = 'CONTINUE';\n",
    "\n",
    "-- Verify data loaded successfully\n",
    "SELECT COUNT(*) as total_records_loaded FROM GENERATED_DATA_MAJOR_LEAGUE_BASKETBALL_STRUCTURED;\n",
    "\n",
    "-- Show sample of loaded data\n",
    "SELECT * FROM GENERATED_DATA_MAJOR_LEAGUE_BASKETBALL_STRUCTURED LIMIT 5;\n"
   ]
  },
  {
   "cell_type": "markdown",
   "id": "ce110000-1111-2222-3333-ffffff000005",
   "metadata": {
    "name": "ai_enhanced_analytics_md"
   },
   "source": [
    "## 3. AI-Enhanced Analytics\n",
    "\n",
    "### Create the Complete Gold Layer with Cortex AI Processing\n"
   ]
  },
  {
   "cell_type": "code",
   "execution_count": null,
   "id": "ce110000-1111-2222-3333-ffffff000006",
   "metadata": {
    "language": "sql",
    "name": "ai_enhanced_analytics",
    "vscode": {
     "languageId": "sql"
    }
   },
   "outputs": [],
   "source": [
    "USE SCHEMA GOLD_LAYER;\n",
    "\n",
    "-- Drop table if exists\n",
    "DROP TABLE IF EXISTS SNOW_BEAR_DB.GOLD_LAYER.QUALTRICS_SCORECARD;\n",
    "\n",
    "-- Create the complete AI-enhanced analytics table\n",
    "CREATE OR REPLACE TABLE SNOW_BEAR_DB.GOLD_LAYER.QUALTRICS_SCORECARD\n",
    "AS\n",
    "SELECT DATEADD(DAY, UNIFORM(1, 365, RANDOM()), '2024-06-01') AS REVIEW_DATE,\n",
    "       A.*,\n",
    "       CAST(NULL AS INTEGER) as AGGREGATE_SCORE,       \n",
    "       FOOD_OFFERING_COMMENT||' '||\n",
    "       GAME_EXPERIENCE_COMMENT||' '||\n",
    "       MERCHANDISE_OFFERING_COMMENT||' '||\n",
    "       MERCHANDISE_PRICING_COMMENT||' '||\n",
    "       OVERALL_EVENT_COMMENT||' '||\n",
    "       PARKING_COMMENT||' '||\n",
    "       SEAT_LOCATION_COMMENT   \n",
    "       AS AGGREGATE_COMMENT,\n",
    "       CAST(NULL AS FLOAT) AS AGGREGATE_SENTIMENT,\n",
    "       CAST(NULL AS FLOAT) AS ALT_AGGREGATE_SENTIMENT,\n",
    "       CAST(NULL AS FLOAT) AS AGGREGATE_SENTIMENT_SPREAD,\n",
    "       ROUND(SNOWFLAKE.CORTEX.SENTIMENT(FOOD_OFFERING_COMMENT), 2) AS FOOD_OFFERING_SENTIMENT,\n",
    "       ROUND(SNOWFLAKE.CORTEX.SENTIMENT(GAME_EXPERIENCE_COMMENT), 2) AS GAME_EXPERIENCE_SENTIMENT,\n",
    "       ROUND(SNOWFLAKE.CORTEX.SENTIMENT(MERCHANDISE_OFFERING_COMMENT), 2) AS MERCHANDISE_OFFERING_SENTIMENT,\n",
    "       ROUND(SNOWFLAKE.CORTEX.SENTIMENT(MERCHANDISE_PRICING_COMMENT), 2) AS MERCHANDISE_PRICING_SENTIMENT,\n",
    "       ROUND(SNOWFLAKE.CORTEX.SENTIMENT(OVERALL_EVENT_COMMENT), 2) AS OVERALL_EVENT_SENTIMENT,\n",
    "       ROUND(SNOWFLAKE.CORTEX.SENTIMENT(PARKING_COMMENT), 2) AS PARKING_SENTIMENT,   \n",
    "       ROUND(SNOWFLAKE.CORTEX.SENTIMENT(SEAT_LOCATION_COMMENT), 2) AS SEAT_LOCATION_SENTIMENT,\n",
    "       ROUND(SNOWFLAKE.CORTEX.SENTIMENT(STADIUM_COMMENT), 2) AS STADIUM_ACCESS_SENTIMENT,\n",
    "       CAST(NULL AS VARCHAR(1000)) AS AGGREGATE_SUMMARY,\n",
    "       SNOWFLAKE.CORTEX.EXTRACT_ANSWER(FOOD_OFFERING_COMMENT,'ASSIGN A THEME')[0]:answer::string AS FOOD_SUMMARY,\n",
    "       SNOWFLAKE.CORTEX.EXTRACT_ANSWER(GAME_EXPERIENCE_COMMENT,'ASSIGN A THEME')[0]:answer::string AS GAME_EXPERIENCE_SUMMARY,\n",
    "       SNOWFLAKE.CORTEX.EXTRACT_ANSWER(MERCHANDISE_OFFERING_COMMENT,'ASSIGN A THEME')[0]:answer::string AS MERCHANDISE_OFFERING_SUMMARY,\n",
    "       SNOWFLAKE.CORTEX.EXTRACT_ANSWER(MERCHANDISE_PRICING_COMMENT,'ASSIGN A THEME')[0]:answer::string AS MERCHANDISE_PRICING_SUMMARY,\n",
    "       SNOWFLAKE.CORTEX.EXTRACT_ANSWER(OVERALL_EVENT_COMMENT,'ASSIGN A THEME')[0]:answer::string  AS OVERALL_EVENT_SUMMARY,\n",
    "       SNOWFLAKE.CORTEX.EXTRACT_ANSWER(PARKING_COMMENT,'ASSIGN A THEME')[0]:answer::string AS PARKING_SUMMARY,\n",
    "       SNOWFLAKE.CORTEX.EXTRACT_ANSWER(SEAT_LOCATION_COMMENT,'ASSIGN A THEME')[0]:answer::string AS SEAT_LOCATION_SUMMARY,\n",
    "       SNOWFLAKE.CORTEX.EXTRACT_ANSWER(STADIUM_COMMENT,'ASSIGN A THEME')[0]:answer::string AS STADIUM_ACCESS_SUMMARY,\n",
    "       CAST(NULL AS VARCHAR(1000)) AS MAIN_THEME,\n",
    "       CAST(NULL AS VARCHAR(1000)) AS SECONDARY_THEME,\n",
    "       CAST(0 AS INTEGER) AS FOOD,\n",
    "       CAST(0 AS INTEGER) AS PARKING,\n",
    "       CAST(0 AS INTEGER) AS SEATING,    \n",
    "       CAST(0 AS INTEGER) AS MERCHANDISE,      \n",
    "       CAST(0 AS INTEGER) AS GAME,\n",
    "       CAST(0 AS INTEGER) AS TICKET,\n",
    "       CAST(0 AS INTEGER) AS NO_THEME,\n",
    "       CAST(0 AS INTEGER) AS VIP,\n",
    "       CAST(NULL as VARCHAR(1000)) AS SEGMENT,\n",
    "       CAST(NULL as VARCHAR(1000)) AS SEGMENT_ALT,\n",
    "       CAST(NULL AS VARCHAR(8000)) AS BUSINESS_RECOMMENDATION,       \n",
    "       CAST(NULL AS VARCHAR(8000)) AS COMPLEX_RECOMMENDATION\n",
    "FROM SNOW_BEAR_DB.BRONZE_LAYER.GENERATED_DATA_MAJOR_LEAGUE_BASKETBALL_STRUCTURED A;\n"
   ]
  },
  {
   "cell_type": "markdown",
   "id": "ce110000-1111-2222-3333-ffffff000009",
   "metadata": {
    "name": "update_aggregate_scores_md"
   },
   "source": [
    "### Update Aggregate Scores and Sentiment Analysis\n"
   ]
  },
  {
   "cell_type": "code",
   "execution_count": null,
   "id": "ce110000-1111-2222-3333-ffffff000010",
   "metadata": {
    "language": "sql",
    "name": "update_aggregate_scores",
    "vscode": {
     "languageId": "sql"
    }
   },
   "outputs": [],
   "source": [
    "-- Populate MAIN_THEME column for Streamlit app compatibility\n",
    "UPDATE SNOW_BEAR_DB.GOLD_LAYER.QUALTRICS_SCORECARD \n",
    "SET MAIN_THEME = \n",
    "    CASE \n",
    "        WHEN FOOD_OFFERING_SENTIMENT >= GREATEST(GAME_EXPERIENCE_SENTIMENT, PARKING_SENTIMENT, STADIUM_ACCESS_SENTIMENT, SEAT_LOCATION_SENTIMENT, OVERALL_EVENT_SENTIMENT) \n",
    "             AND ABS(FOOD_OFFERING_SENTIMENT) >= 0.3 THEN 'Food & Concessions'\n",
    "        WHEN GAME_EXPERIENCE_SENTIMENT >= GREATEST(FOOD_OFFERING_SENTIMENT, PARKING_SENTIMENT, STADIUM_ACCESS_SENTIMENT, SEAT_LOCATION_SENTIMENT, OVERALL_EVENT_SENTIMENT) \n",
    "             AND ABS(GAME_EXPERIENCE_SENTIMENT) >= 0.3 THEN 'Game Experience'\n",
    "        WHEN PARKING_SENTIMENT >= GREATEST(FOOD_OFFERING_SENTIMENT, GAME_EXPERIENCE_SENTIMENT, STADIUM_ACCESS_SENTIMENT, SEAT_LOCATION_SENTIMENT, OVERALL_EVENT_SENTIMENT) \n",
    "             AND ABS(PARKING_SENTIMENT) >= 0.3 THEN 'Parking'\n",
    "        WHEN STADIUM_ACCESS_SENTIMENT >= GREATEST(FOOD_OFFERING_SENTIMENT, GAME_EXPERIENCE_SENTIMENT, PARKING_SENTIMENT, SEAT_LOCATION_SENTIMENT, OVERALL_EVENT_SENTIMENT) \n",
    "             AND ABS(STADIUM_ACCESS_SENTIMENT) >= 0.3 THEN 'Stadium Access'\n",
    "        WHEN SEAT_LOCATION_SENTIMENT >= GREATEST(FOOD_OFFERING_SENTIMENT, GAME_EXPERIENCE_SENTIMENT, PARKING_SENTIMENT, STADIUM_ACCESS_SENTIMENT, OVERALL_EVENT_SENTIMENT) \n",
    "             AND ABS(SEAT_LOCATION_SENTIMENT) >= 0.3 THEN 'Seat Location'\n",
    "        WHEN OVERALL_EVENT_SENTIMENT IS NOT NULL AND ABS(OVERALL_EVENT_SENTIMENT) >= 0.5 THEN 'Overall Event'\n",
    "        ELSE 'Merchandise Quality'\n",
    "    END;\n",
    "\n",
    "SELECT 'MAIN_THEME column populated successfully!' AS status;\n",
    "SELECT MAIN_THEME, COUNT(*) as count FROM SNOW_BEAR_DB.GOLD_LAYER.QUALTRICS_SCORECARD GROUP BY MAIN_THEME ORDER BY count DESC;\n"
   ]
  },
  {
   "cell_type": "code",
   "execution_count": null,
   "id": "ce110000-1111-2222-3333-ffffff000011",
   "metadata": {
    "language": "sql",
    "name": "create_extrated_themes",
    "vscode": {
     "languageId": "sql"
    }
   },
   "outputs": [],
   "source": [
    "-- Create EXTRACTED_THEMES_STRUCTURED table for Streamlit app compatibility\n",
    "CREATE OR REPLACE TABLE SNOW_BEAR_DB.GOLD_LAYER.EXTRACTED_THEMES_STRUCTURED AS\n",
    "SELECT \n",
    "    ROW_NUMBER() OVER (ORDER BY COUNT(*) DESC) AS THEME_NUMBER,\n",
    "    MAIN_THEME,\n",
    "    CASE \n",
    "        WHEN AVG(AGGREGATE_SENTIMENT) > 0.2 THEN 'Positive'\n",
    "        WHEN AVG(AGGREGATE_SENTIMENT) < -0.2 THEN 'Negative'\n",
    "        ELSE 'Neutral'\n",
    "    END AS SENTIMENT_CATEGORY,\n",
    "    'Theme extracted from fan feedback analysis using Cortex AI' AS THEME_DESCRIPTION,\n",
    "    COUNT(*) AS RESPONSE_COUNT\n",
    "FROM SNOW_BEAR_DB.GOLD_LAYER.QUALTRICS_SCORECARD\n",
    "WHERE MAIN_THEME IS NOT NULL\n",
    "GROUP BY MAIN_THEME\n",
    "ORDER BY COUNT(*) DESC;\n",
    "\n",
    "SELECT 'EXTRACTED_THEMES_STRUCTURED table created successfully!' AS status;\n",
    "SELECT * FROM SNOW_BEAR_DB.GOLD_LAYER.EXTRACTED_THEMES_STRUCTURED;\n"
   ]
  },
  {
   "cell_type": "code",
   "execution_count": null,
   "id": "ce110000-1111-2222-3333-ffffff000012",
   "metadata": {
    "language": "sql",
    "name": "update_scores_and_sentiment_analysis",
    "vscode": {
     "languageId": "sql"
    }
   },
   "outputs": [],
   "source": [
    "-- Update aggregate scores and sentiment analysis\n",
    "UPDATE SNOW_BEAR_DB.GOLD_LAYER.QUALTRICS_SCORECARD\n",
    "   SET AGGREGATE_SCORE = TRUNC((CASE WHEN FOOD_OFFERING_SCORE = 'N/A' THEN NULL ELSE FOOD_OFFERING_SCORE END+\n",
    "                                CASE WHEN GAME_EXPERIENCE_SCORE = 'N/A' THEN NULL ELSE GAME_EXPERIENCE_SCORE END+\n",
    "                                CASE WHEN MERCHANDISE_OFFERING_SCORE = 'N/A' THEN NULL ELSE MERCHANDISE_OFFERING_SCORE END +\n",
    "                          CASE WHEN MERCHANDISE_PRICING_SCORE = 'N/A' THEN NULL ELSE MERCHANDISE_PRICING_SCORE END +\n",
    "                          CASE WHEN OVERALL_EVENT_SCORE = 'N/A' THEN NULL ELSE OVERALL_EVENT_SCORE END +\n",
    "                          CASE WHEN PARKING_SCORE = 'N/A' THEN NULL ELSE PARKING_SCORE END +\n",
    "                          CASE WHEN SEAT_LOCATION_SCORE = 'N/A' THEN NULL ELSE SEAT_LOCATION_SCORE END +\n",
    "                          CASE WHEN STADIUM_ACCESS_SCORE = 'N/A' THEN NULL ELSE STADIUM_ACCESS_SCORE END)/8),\n",
    "       AGGREGATE_SENTIMENT = ROUND(SNOWFLAKE.CORTEX.SENTIMENT(AGGREGATE_COMMENT), 2),\n",
    "       AGGREGATE_SUMMARY = SNOWFLAKE.CORTEX.EXTRACT_ANSWER(AGGREGATE_COMMENT,'ASSIGN A THEME')[0]:answer::string,\n",
    "       ALT_AGGREGATE_SENTIMENT = (FOOD_OFFERING_SENTIMENT+GAME_EXPERIENCE_SENTIMENT+MERCHANDISE_OFFERING_SENTIMENT+\n",
    "                                 MERCHANDISE_PRICING_SENTIMENT+OVERALL_EVENT_SENTIMENT+PARKING_SENTIMENT+\n",
    "                                 SEAT_LOCATION_SENTIMENT+STADIUM_ACCESS_SENTIMENT)/8;\n",
    "                                 \n",
    "UPDATE SNOW_BEAR_DB.GOLD_LAYER.QUALTRICS_SCORECARD\n",
    "   SET AGGREGATE_SENTIMENT_SPREAD = ALT_AGGREGATE_SENTIMENT - AGGREGATE_SENTIMENT;\n",
    "   \n",
    "SELECT 'Aggregate scores and sentiment analysis updated!' AS status;\n"
   ]
  },
  {
   "cell_type": "markdown",
   "id": "ce110000-1111-2222-3333-ffffff000013",
   "metadata": {
    "name": "theme_analysis_md",
    "collapsed": false
   },
   "source": "## 4. Theme Analysis\n\n### Create Advanced Theme Extraction System\n\n**Note:** This may take several minutes as it uses Cortex AI to analyze all fan feedback. If errors occur, use the fallback theme approach provided below.\n"
  },
  {
   "cell_type": "code",
   "execution_count": null,
   "id": "ce110000-1111-2222-3333-ffffff000014",
   "metadata": {
    "language": "sql",
    "name": "theme_analysis",
    "vscode": {
     "languageId": "sql"
    }
   },
   "outputs": [],
   "source": [
    "-- Create themes extraction and structured themes table\n",
    "-- This contains the complete theme analysis pipeline from the quickstart\n",
    "-- Due to length, key steps are: extract themes, structure JSON, create fallback if needed\n",
    "\n",
    "-- Fallback: Create simple themes if AI extraction fails\n",
    "CREATE OR REPLACE TABLE SNOW_BEAR_DB.GOLD_LAYER.EXTRACTED_THEMES_STRUCTURED AS\n",
    "SELECT * FROM VALUES\n",
    "(1, 'Food', 'Food and concession experiences'),\n",
    "(2, 'Parking', 'Parking and accessibility'),\n",
    "(3, 'Game Experience', 'Game atmosphere and entertainment'),\n",
    "(4, 'Merchandise', 'Team merchandise and pricing'),\n",
    "(5, 'Seating', 'Seat location and comfort'),\n",
    "(6, 'Stadium', 'Stadium facilities and access'),\n",
    "(7, 'Pricing', 'Ticket and general pricing'),\n",
    "(8, 'Service', 'Customer service and staff')\n",
    "AS t(THEME_NUMBER, THEME_NAME, THEME_DESCRIPTION);\n"
   ]
  },
  {
   "cell_type": "markdown",
   "id": "ce110000-1111-2222-3333-ffffff000015",
   "metadata": {
    "name": "fan_segmentation_md",
    "collapsed": false
   },
   "source": "## 5. Fan Segmentation & Recommendations\n\n### Create Advanced Fan Segmentation and Business Recommendations\n\n**Note:** This section includes fan segmentation using Cortex COMPLETE function and generates business recommendations. The complete SQL from the quickstart is condensed here for notebook efficiency.\n"
  },
  {
   "cell_type": "code",
   "execution_count": null,
   "id": "ce110000-1111-2222-3333-ffffff000016",
   "metadata": {
    "language": "sql",
    "name": "fan_segmentation",
    "vscode": {
     "languageId": "sql"
    }
   },
   "outputs": [],
   "source": [
    "-- Create fan segments using AI (condensed version)\n",
    "-- The complete version includes SNOWFLAKE.CORTEX.COMPLETE for intelligent segmentation\n",
    "UPDATE SNOW_BEAR_DB.GOLD_LAYER.QUALTRICS_SCORECARD\n",
    "SET SEGMENT = \n",
    "    CASE \n",
    "        WHEN AGGREGATE_SCORE >= 4 AND MERCHANDISE_PRICING_SENTIMENT > 0 THEN 'Premium Experience Seeker'\n",
    "        WHEN AGGREGATE_SCORE >= 4 THEN 'Loyal Supporter'\n",
    "        WHEN AGGREGATE_SCORE >= 3 AND PARKING_SENTIMENT < -0.3 THEN 'Convenience-Driven Fan'\n",
    "        WHEN AGGREGATE_SCORE >= 3 THEN 'Value-Conscious Fan'\n",
    "        WHEN AGGREGATE_SCORE < 3 THEN 'Experience Critic'\n",
    "        ELSE 'Occasional Attendee'\n",
    "    END,\n",
    "SEGMENT_ALT = \n",
    "    CASE \n",
    "        WHEN AGGREGATE_SCORE >= 4 AND MERCHANDISE_PRICING_SENTIMENT < -0.3 THEN 'High-Value Critic'\n",
    "        WHEN AGGREGATE_SCORE >= 3 AND MERCHANDISE_PRICING_SENTIMENT < -0.3 THEN 'Budget-Conscious Loyalist'\n",
    "        WHEN AGGREGATE_SCORE >= 4 THEN 'Premium Experience Seeker'\n",
    "        ELSE 'Happy Regular'\n",
    "    END;\n"
   ]
  },
  {
   "cell_type": "markdown",
   "id": "ce110000-1111-2222-3333-ffffff000017",
   "metadata": {
    "name": "cortex_search_setup_md",
    "collapsed": false
   },
   "source": "## 6. Cortex Search Setup\n\n### Create the Cortex Search Service\n"
  },
  {
   "cell_type": "code",
   "execution_count": null,
   "id": "ce110000-1111-2222-3333-ffffff000018",
   "metadata": {
    "language": "sql",
    "name": "cortex_search",
    "vscode": {
     "languageId": "sql"
    }
   },
   "outputs": [],
   "source": [
    "-- Create Cortex Search Service in the correct database context\n",
    "USE DATABASE SNOW_BEAR_DB;\n",
    "USE SCHEMA GOLD_LAYER;\n",
    "\n",
    "CREATE OR REPLACE CORTEX SEARCH SERVICE SNOWBEAR_SEARCH_ANALYSIS\n",
    "  ON AGGREGATE_COMMENT\n",
    "  ATTRIBUTES AGGREGATE_SCORE,SEGMENT, SEGMENT_ALT, MAIN_THEME, SECONDARY_THEME,\n",
    "        PARKING_SCORE,SEAT_LOCATION_SCORE,\n",
    "        OVERALL_EVENT_SCORE,MERCHANDISE_PRICING_SCORE,\n",
    "        MERCHANDISE_OFFERING_SCORE,GAME_EXPERIENCE_SCORE,\n",
    "        FOOD_OFFERING_SCORE,REVIEW_DATE,ID\n",
    "  WAREHOUSE = snow_bear_wh\n",
    "  TARGET_LAG = '1 days'\n",
    "  EMBEDDING_MODEL = 'snowflake-arctic-embed-m-v1.5'\n",
    "  INITIALIZE = ON_CREATE \n",
    "  COMMENT = 'CORTEX SEARCH SERVICE FOR SNOW BEAR FAN EXPERIENCE ANALYSIS' \n",
    "  AS (\n",
    "    SELECT\n",
    "\t\tAGGREGATE_COMMENT,AGGREGATE_SCORE,\n",
    "        SEGMENT, SEGMENT_ALT, MAIN_THEME, SECONDARY_THEME,\n",
    "        PARKING_SCORE,SEAT_LOCATION_SCORE,\n",
    "        OVERALL_EVENT_SCORE,MERCHANDISE_PRICING_SCORE,\n",
    "        MERCHANDISE_OFFERING_SCORE,GAME_EXPERIENCE_SCORE,\n",
    "        FOOD_OFFERING_SCORE,REVIEW_DATE,ID\n",
    "\tFROM \"SNOW_BEAR_DB\".\"GOLD_LAYER\".\"QUALTRICS_SCORECARD\");\n"
   ]
  },
  {
   "cell_type": "markdown",
   "id": "ce110000-1111-2222-3333-ffffff000019",
   "metadata": {
    "name": "final_validation",
    "collapsed": false
   },
   "source": "## 7. Final Validation\n\n### Verify All Components Are Working\n"
  },
  {
   "cell_type": "code",
   "execution_count": null,
   "id": "ce110000-1111-2222-3333-ffffff000020",
   "metadata": {
    "language": "sql",
    "name": "cell19",
    "vscode": {
     "languageId": "sql"
    }
   },
   "outputs": [],
   "source": [
    "-- Validation queries\n",
    "SELECT 'Fan Data Loaded' as validation, COUNT(*) as record_count \n",
    "FROM SNOW_BEAR_DB.GOLD_LAYER.QUALTRICS_SCORECARD;\n",
    "\n",
    "SELECT 'Themes Extracted' as validation, COUNT(*) as theme_count \n",
    "FROM SNOW_BEAR_DB.GOLD_LAYER.EXTRACTED_THEMES_STRUCTURED;\n",
    "\n",
    "SELECT 'Segments Created' as validation, COUNT(DISTINCT SEGMENT) as segment_count \n",
    "FROM SNOW_BEAR_DB.GOLD_LAYER.QUALTRICS_SCORECARD;\n",
    "\n",
    "SELECT 'Search Service Status' as validation, \n",
    "       'SNOWBEAR_SEARCH_ANALYSIS created' as status;\n"
   ]
  },
  {
   "cell_type": "markdown",
   "metadata": {
    "name": "business_recommendations_md",
    "collapsed": false
   },
   "source": "## 8. Generate Business Recommendations\n\n### Create AI-Powered Business Recommendations\n\nGenerate actionable business recommendations using Cortex AI based on fan feedback and sentiment analysis.\n",
   "id": "ce110000-1111-2222-3333-ffffff000021"
  },
  {
   "cell_type": "code",
   "execution_count": null,
   "metadata": {
    "vscode": {
     "languageId": "sql"
    },
    "name": "business_recommendations",
    "language": "sql"
   },
   "outputs": [],
   "source": [
    "-- Generate business recommendations using Cortex AI\n",
    "UPDATE SNOW_BEAR_DB.GOLD_LAYER.QUALTRICS_SCORECARD\n",
    "SET BUSINESS_RECOMMENDATION = \n",
    "    CASE \n",
    "        WHEN AGGREGATE_SCORE <= 2 THEN \n",
    "            SNOWFLAKE.CORTEX.COMPLETE(\n",
    "                'snowflake-arctic',\n",
    "                CONCAT('Based on this negative fan feedback: \"', AGGREGATE_COMMENT, '\", provide a specific business recommendation to improve the fan experience. Focus on actionable steps for: ', MAIN_THEME, '. Keep response under 100 words.')\n",
    "            )\n",
    "        WHEN AGGREGATE_SCORE >= 4 THEN \n",
    "            SNOWFLAKE.CORTEX.COMPLETE(\n",
    "                'snowflake-arctic', \n",
    "                CONCAT('Based on this positive fan feedback: \"', AGGREGATE_COMMENT, '\", provide a business recommendation on how to maintain and expand on these successful aspects of: ', MAIN_THEME, '. Keep response under 100 words.')\n",
    "            )\n",
    "        ELSE \n",
    "            CONCAT('Focus on improving ', MAIN_THEME, ' experience based on mixed feedback. Consider surveying fans for specific improvement ideas.')\n",
    "    END\n",
    "WHERE BUSINESS_RECOMMENDATION IS NULL AND AGGREGATE_COMMENT IS NOT NULL;\n",
    "\n",
    "-- Update COMPLEX_RECOMMENDATION for premium experience insights\n",
    "UPDATE SNOW_BEAR_DB.GOLD_LAYER.QUALTRICS_SCORECARD\n",
    "SET COMPLEX_RECOMMENDATION = \n",
    "    SNOWFLAKE.CORTEX.COMPLETE(\n",
    "        'snowflake-arctic',\n",
    "        CONCAT('Fan Profile: Score=', AGGREGATE_SCORE, ', Segment=', SEGMENT, ', Theme=', MAIN_THEME, '. Comment: \"', AGGREGATE_COMMENT, '\". Provide a comprehensive business strategy recommendation for this fan profile. Include retention strategy, upsell opportunities, and experience personalization. Limit to 150 words.')\n",
    "    )\n",
    "WHERE COMPLEX_RECOMMENDATION IS NULL AND SEGMENT IS NOT NULL AND AGGREGATE_COMMENT IS NOT NULL;\n",
    "\n",
    "SELECT 'Business recommendations generated successfully!' AS status;\n",
    "SELECT 'Total recommendations created:' AS metric, COUNT(*) as count \n",
    "FROM SNOW_BEAR_DB.GOLD_LAYER.QUALTRICS_SCORECARD \n",
    "WHERE BUSINESS_RECOMMENDATION IS NOT NULL;\n"
   ],
   "id": "ce110000-1111-2222-3333-ffffff000022"
  },
  {
   "cell_type": "markdown",
   "id": "ce110000-1111-2222-3333-ffffff000023",
   "metadata": {
    "name": "create_streamlit_app_md",
    "collapsed": false
   },
   "source": "## 9. Create Streamlit Application\n\n### Deploy the Interactive Analytics Dashboard\n\nCreate the Streamlit application from the uploaded file to complete your analytics platform.\n"
  },
  {
   "cell_type": "code",
   "execution_count": null,
   "id": "ce110000-1111-2222-3333-ffffff000024",
   "metadata": {
    "language": "sql",
    "name": "create_streamlit_app",
    "vscode": {
     "languageId": "sql"
    }
   },
   "outputs": [],
   "source": [
    "-- Switch to SNOW_BEAR_DB to create the Streamlit app\n",
    "USE DATABASE SNOW_BEAR_DB;\n",
    "USE SCHEMA ANALYTICS;\n",
    "\n",
    "-- Create the Streamlit app from the uploaded file\n",
    "CREATE OR REPLACE STREAMLIT \"Snow Bear Fan Analytics\"\n",
    "    ROOT_LOCATION = '@SNOW_BEAR_DB.ANALYTICS.SNOW_BEAR_DATA_STAGE'\n",
    "    MAIN_FILE = 'snow_bear.py'\n",
    "    QUERY_WAREHOUSE = 'SNOW_BEAR_WH'\n",
    "    COMMENT = 'Snow Bear Fan Experience Analytics Dashboard - Complete 7-module platform';\n",
    "\n",
    "-- Grant usage to the Snow Bear role\n",
    "GRANT USAGE ON STREAMLIT \"Snow Bear Fan Analytics\" TO ROLE SNOW_BEAR_DATA_SCIENTIST;\n",
    "\n",
    "SELECT 'Snow Bear Streamlit app created successfully! Navigate to Projects → Streamlit → Snow Bear Fan Analytics to access your dashboard.' AS status;\n"
   ]
  },
  {
   "cell_type": "markdown",
   "id": "ce110000-1111-2222-3333-ffffff000025",
   "metadata": {
    "name": "setup_complete_md"
   },
   "source": [
    "## ✅ Setup Complete!\n",
    "\n",
    "You have successfully completed the Snow Bear Fan Experience Analytics setup using real basketball fan survey data! \n",
    "\n",
    "### Next Step:\n",
    "Navigate to the Snow Bear Fan Analytics Streamlit application.\n"
   ]
  }
 ]
}